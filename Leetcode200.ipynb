{
  "nbformat": 4,
  "nbformat_minor": 0,
  "metadata": {
    "colab": {
      "name": "Leetcode200.ipynb",
      "provenance": [],
      "authorship_tag": "ABX9TyOwe2zKcSbk7luK6qTM7NPr",
      "include_colab_link": true
    },
    "kernelspec": {
      "name": "python3",
      "display_name": "Python 3"
    },
    "language_info": {
      "name": "python"
    }
  },
  "cells": [
    {
      "cell_type": "markdown",
      "metadata": {
        "id": "view-in-github",
        "colab_type": "text"
      },
      "source": [
        "<a href=\"https://colab.research.google.com/github/EunjongPyo/EunjongPyo.github.io/blob/master/Leetcode200.ipynb\" target=\"_parent\"><img src=\"https://colab.research.google.com/assets/colab-badge.svg\" alt=\"Open In Colab\"/></a>"
      ]
    },
    {
      "cell_type": "code",
      "execution_count": 1,
      "metadata": {
        "id": "laHZY8bJMOmz"
      },
      "outputs": [],
      "source": [
        "import collections\n",
        "import heapq\n",
        "import functools\n",
        "import itertools\n",
        "import re\n",
        "import sys\n",
        "import math\n",
        "import bisect\n",
        "from typing import *"
      ]
    },
    {
      "cell_type": "code",
      "source": [
        "class Solution:\n",
        "  grid: List[List[str]]\n",
        "  def dfs(self, i: int, j: int):\n",
        "    if i < 0 or i >= len(self.grid) or \\\n",
        "        j < 0 or j >= len(self.grid[0]) or \\\n",
        "        self.grid[i][j] != '1':\n",
        "        return\n",
        "    \n",
        "    self.grid[i][j] = '0'\n",
        "    self.dfs(i+1, j)\n",
        "    self.dfs(i-1, j)\n",
        "    self.dfs(i, j+1)\n",
        "    self.dfs(i, j-1)\n",
        "\n",
        "  def numIslands(self, grid: List[List[str]]) -> int:\n",
        "    self.grid = grid\n",
        "    if not grid:\n",
        "      return 0\n",
        "    \n",
        "    count = 0\n",
        "    for i in range(len(self.grid)):\n",
        "      for j in range(len(self.grid[i])):\n",
        "        if self.grid[i][j] == '1':\n",
        "          self.dfs(i, j)\n",
        "          count += 1\n",
        "\n",
        "    return count"
      ],
      "metadata": {
        "id": "20LCgX7QMn2R"
      },
      "execution_count": 13,
      "outputs": []
    },
    {
      "cell_type": "code",
      "source": [
        "if __name__ == \"__main__\":\n",
        "  grid = [\n",
        "    [\"1\",\"1\",\"1\",\"1\",\"0\"],\n",
        "    [\"1\",\"1\",\"0\",\"1\",\"0\"],\n",
        "    [\"1\",\"1\",\"0\",\"0\",\"0\"],\n",
        "    [\"0\",\"0\",\"0\",\"0\",\"0\"]\n",
        "  ]\n",
        "\n",
        "  sol = Solution()\n",
        "  print(sol.numIslands(grid))"
      ],
      "metadata": {
        "colab": {
          "base_uri": "https://localhost:8080/"
        },
        "id": "TzMtlbvaMVuU",
        "outputId": "43dcd48a-9054-4133-8710-a12012822565"
      },
      "execution_count": 14,
      "outputs": [
        {
          "output_type": "stream",
          "name": "stdout",
          "text": [
            "1\n"
          ]
        }
      ]
    }
  ]
}